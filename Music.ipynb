{
  "cells": [
    {
      "cell_type": "markdown",
      "metadata": {
        "id": "view-in-github",
        "colab_type": "text"
      },
      "source": [
        "<a href=\"https://colab.research.google.com/github/pavankumarchakali-25/indian-music-recommender/blob/main/Music.ipynb\" target=\"_parent\"><img src=\"https://colab.research.google.com/assets/colab-badge.svg\" alt=\"Open In Colab\"/></a>"
      ]
    },
    {
      "cell_type": "code",
      "source": [
        "from google.colab import drive\n",
        "drive.mount('/content/drive')  # Run if not mounted\n",
        "df.to_csv('/content/drive/MyDrive/indian_songs_spotify.csv', index=False)\n",
        "print(\"Dataset saved to Google Drive.\")"
      ],
      "metadata": {
        "colab": {
          "base_uri": "https://localhost:8080/"
        },
        "id": "Ho9ka5AWkp85",
        "outputId": "6ad45df0-4450-440c-a8fc-e71bd86c6acb"
      },
      "execution_count": 19,
      "outputs": [
        {
          "output_type": "stream",
          "name": "stdout",
          "text": [
            "Mounted at /content/drive\n",
            "Dataset saved to Google Drive.\n"
          ]
        }
      ]
    },
    {
      "cell_type": "code",
      "source": [
        "from google.colab import files\n",
        "files.download('/content/indian_songs_spotify.csv')"
      ],
      "metadata": {
        "colab": {
          "base_uri": "https://localhost:8080/",
          "height": 17
        },
        "id": "1kNh5U12lRzS",
        "outputId": "36670069-1c32-4d9d-9872-cbd4c3609cae"
      },
      "execution_count": 20,
      "outputs": [
        {
          "output_type": "display_data",
          "data": {
            "text/plain": [
              "<IPython.core.display.Javascript object>"
            ],
            "application/javascript": [
              "\n",
              "    async function download(id, filename, size) {\n",
              "      if (!google.colab.kernel.accessAllowed) {\n",
              "        return;\n",
              "      }\n",
              "      const div = document.createElement('div');\n",
              "      const label = document.createElement('label');\n",
              "      label.textContent = `Downloading \"${filename}\": `;\n",
              "      div.appendChild(label);\n",
              "      const progress = document.createElement('progress');\n",
              "      progress.max = size;\n",
              "      div.appendChild(progress);\n",
              "      document.body.appendChild(div);\n",
              "\n",
              "      const buffers = [];\n",
              "      let downloaded = 0;\n",
              "\n",
              "      const channel = await google.colab.kernel.comms.open(id);\n",
              "      // Send a message to notify the kernel that we're ready.\n",
              "      channel.send({})\n",
              "\n",
              "      for await (const message of channel.messages) {\n",
              "        // Send a message to notify the kernel that we're ready.\n",
              "        channel.send({})\n",
              "        if (message.buffers) {\n",
              "          for (const buffer of message.buffers) {\n",
              "            buffers.push(buffer);\n",
              "            downloaded += buffer.byteLength;\n",
              "            progress.value = downloaded;\n",
              "          }\n",
              "        }\n",
              "      }\n",
              "      const blob = new Blob(buffers, {type: 'application/binary'});\n",
              "      const a = document.createElement('a');\n",
              "      a.href = window.URL.createObjectURL(blob);\n",
              "      a.download = filename;\n",
              "      div.appendChild(a);\n",
              "      a.click();\n",
              "      div.remove();\n",
              "    }\n",
              "  "
            ]
          },
          "metadata": {}
        },
        {
          "output_type": "display_data",
          "data": {
            "text/plain": [
              "<IPython.core.display.Javascript object>"
            ],
            "application/javascript": [
              "download(\"download_e2c362bf-aa39-4599-9dfa-f91c4d38c81f\", \"indian_songs_spotify.csv\", 10136)"
            ]
          },
          "metadata": {}
        }
      ]
    },
    {
      "cell_type": "code",
      "execution_count": 1,
      "metadata": {
        "colab": {
          "base_uri": "https://localhost:8080/"
        },
        "id": "hu0q2Cu17-zs",
        "outputId": "a8080a2c-1559-4c3e-f006-f0531beb76fb"
      },
      "outputs": [
        {
          "output_type": "stream",
          "name": "stdout",
          "text": [
            "Requirement already satisfied: numpy==1.26.4 in /usr/local/lib/python3.12/dist-packages (1.26.4)\n"
          ]
        }
      ],
      "source": [
        "!pip install numpy==1.26.4"
      ]
    },
    {
      "cell_type": "code",
      "execution_count": 1,
      "metadata": {
        "colab": {
          "base_uri": "https://localhost:8080/"
        },
        "id": "1xEn5K1b5sz6",
        "outputId": "bff604c5-48c9-461b-cf0b-7a4e685e500d"
      },
      "outputs": [
        {
          "output_type": "stream",
          "name": "stdout",
          "text": [
            "Requirement already satisfied: surprise in /usr/local/lib/python3.12/dist-packages (0.1)\n",
            "Requirement already satisfied: spotipy in /usr/local/lib/python3.12/dist-packages (2.25.1)\n",
            "Requirement already satisfied: pandas in /usr/local/lib/python3.12/dist-packages (2.2.2)\n",
            "Requirement already satisfied: numpy in /usr/local/lib/python3.12/dist-packages (1.26.4)\n",
            "Requirement already satisfied: librosa in /usr/local/lib/python3.12/dist-packages (0.11.0)\n",
            "Requirement already satisfied: indic-nlp-library in /usr/local/lib/python3.12/dist-packages (0.92)\n",
            "Requirement already satisfied: langdetect in /usr/local/lib/python3.12/dist-packages (1.0.9)\n",
            "Requirement already satisfied: scikit-surprise in /usr/local/lib/python3.12/dist-packages (from surprise) (1.1.4)\n",
            "Requirement already satisfied: redis>=3.5.3 in /usr/local/lib/python3.12/dist-packages (from spotipy) (6.4.0)\n",
            "Requirement already satisfied: requests>=2.25.0 in /usr/local/lib/python3.12/dist-packages (from spotipy) (2.32.4)\n",
            "Requirement already satisfied: urllib3>=1.26.0 in /usr/local/lib/python3.12/dist-packages (from spotipy) (2.5.0)\n",
            "Requirement already satisfied: python-dateutil>=2.8.2 in /usr/local/lib/python3.12/dist-packages (from pandas) (2.9.0.post0)\n",
            "Requirement already satisfied: pytz>=2020.1 in /usr/local/lib/python3.12/dist-packages (from pandas) (2025.2)\n",
            "Requirement already satisfied: tzdata>=2022.7 in /usr/local/lib/python3.12/dist-packages (from pandas) (2025.2)\n",
            "Requirement already satisfied: audioread>=2.1.9 in /usr/local/lib/python3.12/dist-packages (from librosa) (3.0.1)\n",
            "Requirement already satisfied: numba>=0.51.0 in /usr/local/lib/python3.12/dist-packages (from librosa) (0.60.0)\n",
            "Requirement already satisfied: scipy>=1.6.0 in /usr/local/lib/python3.12/dist-packages (from librosa) (1.16.1)\n",
            "Requirement already satisfied: scikit-learn>=1.1.0 in /usr/local/lib/python3.12/dist-packages (from librosa) (1.6.1)\n",
            "Requirement already satisfied: joblib>=1.0 in /usr/local/lib/python3.12/dist-packages (from librosa) (1.5.1)\n",
            "Requirement already satisfied: decorator>=4.3.0 in /usr/local/lib/python3.12/dist-packages (from librosa) (4.4.2)\n",
            "Requirement already satisfied: soundfile>=0.12.1 in /usr/local/lib/python3.12/dist-packages (from librosa) (0.13.1)\n",
            "Requirement already satisfied: pooch>=1.1 in /usr/local/lib/python3.12/dist-packages (from librosa) (1.8.2)\n",
            "Requirement already satisfied: soxr>=0.3.2 in /usr/local/lib/python3.12/dist-packages (from librosa) (0.5.0.post1)\n",
            "Requirement already satisfied: typing_extensions>=4.1.1 in /usr/local/lib/python3.12/dist-packages (from librosa) (4.15.0)\n",
            "Requirement already satisfied: lazy_loader>=0.1 in /usr/local/lib/python3.12/dist-packages (from librosa) (0.4)\n",
            "Requirement already satisfied: msgpack>=1.0 in /usr/local/lib/python3.12/dist-packages (from librosa) (1.1.1)\n",
            "Requirement already satisfied: sphinx-argparse in /usr/local/lib/python3.12/dist-packages (from indic-nlp-library) (0.5.2)\n",
            "Requirement already satisfied: sphinx-rtd-theme in /usr/local/lib/python3.12/dist-packages (from indic-nlp-library) (3.0.2)\n",
            "Requirement already satisfied: morfessor in /usr/local/lib/python3.12/dist-packages (from indic-nlp-library) (2.0.6)\n",
            "Requirement already satisfied: six in /usr/local/lib/python3.12/dist-packages (from langdetect) (1.17.0)\n",
            "Requirement already satisfied: packaging in /usr/local/lib/python3.12/dist-packages (from lazy_loader>=0.1->librosa) (25.0)\n",
            "Requirement already satisfied: llvmlite<0.44,>=0.43.0dev0 in /usr/local/lib/python3.12/dist-packages (from numba>=0.51.0->librosa) (0.43.0)\n",
            "Requirement already satisfied: platformdirs>=2.5.0 in /usr/local/lib/python3.12/dist-packages (from pooch>=1.1->librosa) (4.3.8)\n",
            "Requirement already satisfied: charset_normalizer<4,>=2 in /usr/local/lib/python3.12/dist-packages (from requests>=2.25.0->spotipy) (3.4.3)\n",
            "Requirement already satisfied: idna<4,>=2.5 in /usr/local/lib/python3.12/dist-packages (from requests>=2.25.0->spotipy) (3.10)\n",
            "Requirement already satisfied: certifi>=2017.4.17 in /usr/local/lib/python3.12/dist-packages (from requests>=2.25.0->spotipy) (2025.8.3)\n",
            "Requirement already satisfied: threadpoolctl>=3.1.0 in /usr/local/lib/python3.12/dist-packages (from scikit-learn>=1.1.0->librosa) (3.6.0)\n",
            "Requirement already satisfied: cffi>=1.0 in /usr/local/lib/python3.12/dist-packages (from soundfile>=0.12.1->librosa) (1.17.1)\n",
            "Requirement already satisfied: sphinx>=5.1.0 in /usr/local/lib/python3.12/dist-packages (from sphinx-argparse->indic-nlp-library) (8.2.3)\n",
            "Requirement already satisfied: docutils>=0.19 in /usr/local/lib/python3.12/dist-packages (from sphinx-argparse->indic-nlp-library) (0.21.2)\n",
            "Requirement already satisfied: sphinxcontrib-jquery<5,>=4 in /usr/local/lib/python3.12/dist-packages (from sphinx-rtd-theme->indic-nlp-library) (4.1)\n",
            "Requirement already satisfied: pycparser in /usr/local/lib/python3.12/dist-packages (from cffi>=1.0->soundfile>=0.12.1->librosa) (2.22)\n",
            "Requirement already satisfied: sphinxcontrib-applehelp>=1.0.7 in /usr/local/lib/python3.12/dist-packages (from sphinx>=5.1.0->sphinx-argparse->indic-nlp-library) (2.0.0)\n",
            "Requirement already satisfied: sphinxcontrib-devhelp>=1.0.6 in /usr/local/lib/python3.12/dist-packages (from sphinx>=5.1.0->sphinx-argparse->indic-nlp-library) (2.0.0)\n",
            "Requirement already satisfied: sphinxcontrib-htmlhelp>=2.0.6 in /usr/local/lib/python3.12/dist-packages (from sphinx>=5.1.0->sphinx-argparse->indic-nlp-library) (2.1.0)\n",
            "Requirement already satisfied: sphinxcontrib-jsmath>=1.0.1 in /usr/local/lib/python3.12/dist-packages (from sphinx>=5.1.0->sphinx-argparse->indic-nlp-library) (1.0.1)\n",
            "Requirement already satisfied: sphinxcontrib-qthelp>=1.0.6 in /usr/local/lib/python3.12/dist-packages (from sphinx>=5.1.0->sphinx-argparse->indic-nlp-library) (2.0.0)\n",
            "Requirement already satisfied: sphinxcontrib-serializinghtml>=1.1.9 in /usr/local/lib/python3.12/dist-packages (from sphinx>=5.1.0->sphinx-argparse->indic-nlp-library) (2.0.0)\n",
            "Requirement already satisfied: Jinja2>=3.1 in /usr/local/lib/python3.12/dist-packages (from sphinx>=5.1.0->sphinx-argparse->indic-nlp-library) (3.1.6)\n",
            "Requirement already satisfied: Pygments>=2.17 in /usr/local/lib/python3.12/dist-packages (from sphinx>=5.1.0->sphinx-argparse->indic-nlp-library) (2.19.2)\n",
            "Requirement already satisfied: snowballstemmer>=2.2 in /usr/local/lib/python3.12/dist-packages (from sphinx>=5.1.0->sphinx-argparse->indic-nlp-library) (3.0.1)\n",
            "Requirement already satisfied: babel>=2.13 in /usr/local/lib/python3.12/dist-packages (from sphinx>=5.1.0->sphinx-argparse->indic-nlp-library) (2.17.0)\n",
            "Requirement already satisfied: alabaster>=0.7.14 in /usr/local/lib/python3.12/dist-packages (from sphinx>=5.1.0->sphinx-argparse->indic-nlp-library) (1.0.0)\n",
            "Requirement already satisfied: imagesize>=1.3 in /usr/local/lib/python3.12/dist-packages (from sphinx>=5.1.0->sphinx-argparse->indic-nlp-library) (1.4.1)\n",
            "Requirement already satisfied: roman-numerals-py>=1.0.0 in /usr/local/lib/python3.12/dist-packages (from sphinx>=5.1.0->sphinx-argparse->indic-nlp-library) (3.1.0)\n",
            "Requirement already satisfied: MarkupSafe>=2.0 in /usr/local/lib/python3.12/dist-packages (from Jinja2>=3.1->sphinx>=5.1.0->sphinx-argparse->indic-nlp-library) (3.0.2)\n"
          ]
        }
      ],
      "source": [
        "!pip install surprise spotipy pandas numpy librosa indic-nlp-library langdetect"
      ]
    },
    {
      "cell_type": "code",
      "execution_count": 2,
      "metadata": {
        "colab": {
          "base_uri": "https://localhost:8080/"
        },
        "id": "MYwayuya6_KX",
        "outputId": "e805aa08-a2a2-4087-cffe-ea11ab507fd5"
      },
      "outputs": [
        {
          "output_type": "stream",
          "name": "stdout",
          "text": [
            "   user_id    song_id  rating language                name\n",
            "0        1  song1_hin       5       hi           Tum Hi Ho\n",
            "1        1  song2_tam       3       ta       Vaathi Coming\n",
            "2        2  song1_hin       4       hi           Tum Hi Ho\n",
            "3        2  song3_tel       2       te           Rangabati\n",
            "4        3  song2_tam       5       ta       Vaathi Coming\n",
            "5        3  song4_hin       4       hi              Dil Se\n",
            "6        4  song3_tel       3       te           Rangabati\n",
            "7        4  song5_pun       5       pa  Mundian To Bach Ke\n"
          ]
        }
      ],
      "source": [
        "import pandas as pd\n",
        "\n",
        "# Simulated dataset: user_id, song_id, rating, language, name (Indian languages only)\n",
        "data = {\n",
        "    'user_id': [1, 1, 2, 2, 3, 3, 4, 4],\n",
        "    'song_id': ['song1_hin', 'song2_tam', 'song1_hin', 'song3_tel', 'song2_tam', 'song4_hin', 'song3_tel', 'song5_pun'],\n",
        "    'rating': [5, 3, 4, 2, 5, 4, 3, 5],\n",
        "    'language': ['hi', 'ta', 'hi', 'te', 'ta', 'hi', 'te', 'pa'],\n",
        "    'name': ['Tum Hi Ho', 'Vaathi Coming', 'Tum Hi Ho', 'Rangabati', 'Vaathi Coming', 'Dil Se', 'Rangabati', 'Mundian To Bach Ke']\n",
        "}\n",
        "df = pd.DataFrame(data)\n",
        "df.to_csv('/content/indian_songs.csv', index=False)\n",
        "print(df)"
      ]
    },
    {
      "cell_type": "code",
      "execution_count": 3,
      "metadata": {
        "colab": {
          "base_uri": "https://localhost:8080/"
        },
        "id": "92RbYul-7LgI",
        "outputId": "92d5b15d-f971-490f-d24f-cd434ca7dc7f"
      },
      "outputs": [
        {
          "output_type": "stream",
          "name": "stdout",
          "text": [
            "RMSE: 1.9101\n",
            "RMSE: 1.910146747707422\n",
            "Top 3 recommendations for User 1:\n",
            "Song: Tum Hi Ho, Predicted Rating: 4.45\n",
            "Song: Mundian To Bach Ke, Predicted Rating: 4.36\n",
            "Song: Dil Se, Predicted Rating: 4.32\n"
          ]
        }
      ],
      "source": [
        "from surprise import SVD, Dataset, Reader\n",
        "from surprise.model_selection import train_test_split\n",
        "from surprise import accuracy\n",
        "import pandas as pd\n",
        "\n",
        "# Load the dataset\n",
        "df = pd.read_csv('/content/indian_songs.csv')\n",
        "\n",
        "# Prepare data for Surprise\n",
        "reader = Reader(rating_scale=(1, 5))\n",
        "data = Dataset.load_from_df(df[['user_id', 'song_id', 'rating']], reader)\n",
        "\n",
        "# Split into train and test sets (80% train, 20% test)\n",
        "trainset, testset = train_test_split(data, test_size=0.2, random_state=42)\n",
        "\n",
        "# Train SVD model\n",
        "model = SVD()\n",
        "model.fit(trainset)\n",
        "\n",
        "# Evaluate model on test set\n",
        "predictions = model.test(testset)\n",
        "print(f\"RMSE: {accuracy.rmse(predictions)}\")\n",
        "\n",
        "# Example: Recommend top 3 songs for user 1\n",
        "user_id = 1\n",
        "indian_songs = df['song_id'].unique()\n",
        "pred_ratings = [model.predict(user_id, song_id) for song_id in indian_songs]\n",
        "top_recommendations = sorted(pred_ratings, key=lambda x: x.est, reverse=True)[:3]\n",
        "\n",
        "# Display recommendations\n",
        "print(f\"Top 3 recommendations for User {user_id}:\")\n",
        "for pred in top_recommendations:\n",
        "    song_name = df[df['song_id'] == pred.iid]['name'].iloc[0]\n",
        "    print(f\"Song: {song_name}, Predicted Rating: {pred.est:.2f}\")"
      ]
    },
    {
      "cell_type": "code",
      "source": [
        "import ipywidgets as widgets\n",
        "from IPython.display import display\n",
        "import pandas as pd\n",
        "from surprise import SVD, Dataset, Reader\n",
        "\n",
        "# Load the dataset and model (re-running to ensure everything is in memory)\n",
        "df = pd.read_csv('/content/indian_songs.csv')\n",
        "reader = Reader(rating_scale=(1, 5))\n",
        "data = Dataset.load_from_df(df[['user_id', 'song_id', 'rating']], reader)\n",
        "trainset = data.build_full_trainset()  # Use full dataset for training\n",
        "model = SVD()\n",
        "model.fit(trainset)\n",
        "\n",
        "# Create widgets for user input\n",
        "user_id = widgets.IntText(value=1, description='User ID:', style={'description_width': 'initial'})\n",
        "button = widgets.Button(description='Get Recommendations', button_style='success')\n",
        "output = widgets.Output()\n",
        "\n",
        "# Function to handle button click\n",
        "def on_button_clicked(b):\n",
        "    with output:\n",
        "        output.clear_output()\n",
        "        indian_songs = df['song_id'].unique()\n",
        "        pred_ratings = [model.predict(user_id.value, song_id) for song_id in indian_songs]\n",
        "        top_recommendations = sorted(pred_ratings, key=lambda x: x.est, reverse=True)[:3]\n",
        "        print(f\"Top 3 recommendations for User {user_id.value}:\")\n",
        "        for pred in top_recommendations:\n",
        "            song_name = df[df['song_id'] == pred.iid]['name'].iloc[0]\n",
        "            print(f\"Song: {song_name}, Predicted Rating: {pred.est:.2f}\")\n",
        "\n",
        "button.on_click(on_button_clicked)\n",
        "\n",
        "# Display the interface\n",
        "display(user_id, button, output)"
      ],
      "metadata": {
        "colab": {
          "base_uri": "https://localhost:8080/",
          "height": 155,
          "referenced_widgets": [
            "9b7f214435314c9bb62dd0a394ca6961",
            "cef2657f2cb943809ce54088ad9347be",
            "a42f03c6c8af452393be04d8724224ea",
            "2c791cd326274b0ea18c6efc82d706f5",
            "ff2edbf0a5534b0ebbc5ed823d4aa6bc",
            "7b3ea62807b64209ad8189b969d8cb2a",
            "4160fb4b01604158977cc0dabfd0d2bd",
            "3e5f59e7abb748ecaecd9ba0f9ddfd1b"
          ]
        },
        "id": "C4V7VHjwbbs3",
        "outputId": "f639771c-b477-464e-a573-d2338abca8bc"
      },
      "execution_count": 4,
      "outputs": [
        {
          "output_type": "display_data",
          "data": {
            "text/plain": [
              "IntText(value=1, description='User ID:', style=DescriptionStyle(description_width='initial'))"
            ],
            "application/vnd.jupyter.widget-view+json": {
              "version_major": 2,
              "version_minor": 0,
              "model_id": "9b7f214435314c9bb62dd0a394ca6961"
            }
          },
          "metadata": {}
        },
        {
          "output_type": "display_data",
          "data": {
            "text/plain": [
              "Button(button_style='success', description='Get Recommendations', style=ButtonStyle())"
            ],
            "application/vnd.jupyter.widget-view+json": {
              "version_major": 2,
              "version_minor": 0,
              "model_id": "2c791cd326274b0ea18c6efc82d706f5"
            }
          },
          "metadata": {}
        },
        {
          "output_type": "display_data",
          "data": {
            "text/plain": [
              "Output()"
            ],
            "application/vnd.jupyter.widget-view+json": {
              "version_major": 2,
              "version_minor": 0,
              "model_id": "4160fb4b01604158977cc0dabfd0d2bd"
            }
          },
          "metadata": {}
        }
      ]
    },
    {
      "cell_type": "code",
      "source": [
        "import spotipy\n",
        "from spotipy.oauth2 import SpotifyClientCredentials\n",
        "import pandas as pd\n",
        "import random\n",
        "\n",
        "# Replace with your Spotify API credentials\n",
        "client_id = '2612ff4ccd5549e194c505b04815d00e'  # Paste your Client ID here\n",
        "client_secret = 'a154390a695c4739bb7670742ec47247'  # Paste your Client Secret here\n",
        "sp = spotipy.Spotify(auth_manager=SpotifyClientCredentials(client_id=client_id, client_secret=client_secret))\n",
        "\n",
        "# Expanded list of Indian artists\n",
        "indian_artists = [\n",
        "    'Arijit Singh',  # Hindi\n",
        "    'Shreya Ghoshal',  # Hindi/Multiple\n",
        "    'Anirudh Ravichander',  # Tamil\n",
        "    'Ilaiyaraaja',  # Tamil\n",
        "    'S. P. Balasubrahmanyam',  # Telugu\n",
        "    'Diljit Dosanjh',  # Punjabi\n",
        "    'A. R. Rahman',  # Tamil/Multiple\n",
        "    'Sidhu Moose Wala',  # Punjabi\n",
        "    'Vishal Dadlani',  # Hindi\n",
        "    'Devi Sri Prasad',  # Telugu\n",
        "    'Badshah',  # Punjabi/Hindi\n",
        "    'Sunidhi Chauhan',  # Hindi\n",
        "    'Harris Jayaraj',  # Tamil\n",
        "    'Chinmayi',  # Tamil/Telugu\n",
        "    'Yo Yo Honey Singh',  # Punjabi/Hindi\n",
        "    'Neha Kakkar',  # Hindi\n",
        "    'Guru Randhawa',  # Punjabi\n",
        "    'Yuvan Shankar Raja'  # Tamil\n",
        "]\n",
        "\n",
        "# Language mapping for artists\n",
        "artist_to_language = {\n",
        "    'Arijit Singh': 'hi',\n",
        "    'Shreya Ghoshal': 'hi',\n",
        "    'Anirudh Ravichander': 'ta',\n",
        "    'Ilaiyaraaja': 'ta',\n",
        "    'S. P. Balasubrahmanyam': 'te',\n",
        "    'Diljit Dosanjh': 'pa',\n",
        "    'A. R. Rahman': 'ta',\n",
        "    'Sidhu Moose Wala': 'pa',\n",
        "    'Vishal Dadlani': 'hi',\n",
        "    'Devi Sri Prasad': 'te',\n",
        "    'Badshah': 'pa',\n",
        "    'Sunidhi Chauhan': 'hi',\n",
        "    'Harris Jayaraj': 'ta',\n",
        "    'Chinmayi': 'ta',\n",
        "    'Yo Yo Honey Singh': 'pa',\n",
        "    'Neha Kakkar': 'hi',\n",
        "    'Guru Randhawa': 'pa',\n",
        "    'Yuvan Shankar Raja': 'ta'\n",
        "}\n",
        "\n",
        "# Fetch all tracks with pagination\n",
        "tracks = []\n",
        "for artist in indian_artists:\n",
        "    try:\n",
        "        offset = 0\n",
        "        total_fetched = 0\n",
        "        while True:\n",
        "            results = sp.search(q=f'artist:{artist}', type='track', limit=50, offset=offset)  # Removed market:IN\n",
        "            track_items = results['tracks']['items']\n",
        "            if not track_items:\n",
        "                break\n",
        "            for track in track_items:\n",
        "                tracks.append({\n",
        "                    'song_id': track['id'],\n",
        "                    'name': track['name'],\n",
        "                    'artist': track['artists'][0]['name'],\n",
        "                    'language': artist_to_language.get(artist, 'unknown'),\n",
        "                    'popularity': track['popularity']\n",
        "                })\n",
        "            total_fetched += len(track_items)\n",
        "            print(f\"Fetched {len(track_items)} tracks for {artist} at offset {offset}, Total: {total_fetched}\")\n",
        "            offset += 50\n",
        "    except Exception as e:\n",
        "        print(f\"Error fetching tracks for {artist}: {e}\")\n",
        "        continue\n",
        "\n",
        "# Create DataFrame and remove duplicates\n",
        "df = pd.DataFrame(tracks)\n",
        "df = df.drop_duplicates(subset='song_id')  # Ensure unique songs\n",
        "if df.empty:\n",
        "    print(\"No tracks fetched. Check API credentials or internet connection.\")\n",
        "else:\n",
        "    print(f\"Total fetched: {len(df)} tracks across {len(df['song_id'].unique())} unique songs.\")\n",
        "    print(df.groupby('language').size())  # Show language distribution\n",
        "\n",
        "# Simulate user ratings\n",
        "users = [1, 2, 3, 4, 5, 6]  # Added more users\n",
        "ratings_data = []\n",
        "for user_id in users:\n",
        "    if not df.empty:\n",
        "        sampled_songs = df['song_id'].sample(min(30, len(df)), random_state=user_id)  # Increased to 30\n",
        "        for song_id in sampled_songs:\n",
        "            ratings_data.append({\n",
        "                'user_id': user_id,\n",
        "                'song_id': song_id,\n",
        "                'rating': random.randint(1, 5),\n",
        "                'name': df[df['song_id'] == song_id]['name'].iloc[0],\n",
        "                'language': df[df['song_id'] == song_id]['language'].iloc[0]\n",
        "            })\n",
        "\n",
        "df_ratings = pd.DataFrame(ratings_data)\n",
        "if df_ratings.empty:\n",
        "    print(\"No ratings generated. Check if tracks were fetched.\")\n",
        "else:\n",
        "    df_ratings.to_csv('/content/indian_songs_spotify.csv', index=False)\n",
        "    print(df_ratings.head(10))"
      ],
      "metadata": {
        "colab": {
          "base_uri": "https://localhost:8080/"
        },
        "id": "28V_-NRkec22",
        "outputId": "f39b0a36-dd62-4042-c37e-45477656c008"
      },
      "execution_count": 14,
      "outputs": [
        {
          "output_type": "stream",
          "name": "stdout",
          "text": [
            "Fetched 49 tracks for Arijit Singh at offset 0, Total: 49\n",
            "Fetched 50 tracks for Arijit Singh at offset 50, Total: 99\n",
            "Fetched 50 tracks for Arijit Singh at offset 100, Total: 149\n",
            "Fetched 50 tracks for Arijit Singh at offset 150, Total: 199\n",
            "Fetched 50 tracks for Arijit Singh at offset 200, Total: 249\n",
            "Fetched 50 tracks for Arijit Singh at offset 250, Total: 299\n",
            "Fetched 50 tracks for Arijit Singh at offset 300, Total: 349\n",
            "Fetched 50 tracks for Arijit Singh at offset 350, Total: 399\n",
            "Fetched 50 tracks for Arijit Singh at offset 400, Total: 449\n",
            "Fetched 50 tracks for Arijit Singh at offset 450, Total: 499\n",
            "Fetched 50 tracks for Arijit Singh at offset 500, Total: 549\n",
            "Fetched 50 tracks for Arijit Singh at offset 550, Total: 599\n",
            "Fetched 50 tracks for Arijit Singh at offset 600, Total: 649\n",
            "Fetched 50 tracks for Arijit Singh at offset 650, Total: 699\n",
            "Fetched 50 tracks for Arijit Singh at offset 700, Total: 749\n",
            "Fetched 50 tracks for Arijit Singh at offset 750, Total: 799\n",
            "Fetched 50 tracks for Arijit Singh at offset 800, Total: 849\n",
            "Fetched 50 tracks for Arijit Singh at offset 850, Total: 899\n",
            "Fetched 50 tracks for Arijit Singh at offset 900, Total: 949\n"
          ]
        },
        {
          "output_type": "stream",
          "name": "stderr",
          "text": [
            "ERROR:spotipy.client:HTTP Error for GET to https://api.spotify.com/v1/search with Params: {'q': 'artist:Arijit Singh', 'limit': 50, 'offset': 1000, 'type': 'track', 'market': None} returned 400 due to Limit + Offset exceeds maximum of 1000\n"
          ]
        },
        {
          "output_type": "stream",
          "name": "stdout",
          "text": [
            "Fetched 50 tracks for Arijit Singh at offset 950, Total: 999\n",
            "Error fetching tracks for Arijit Singh: http status: 400, code: -1 - https://api.spotify.com/v1/search?q=artist%3AArijit+Singh&limit=50&offset=1000&type=track:\n",
            " Limit + Offset exceeds maximum of 1000, reason: None\n",
            "Fetched 49 tracks for Shreya Ghoshal at offset 0, Total: 49\n",
            "Fetched 50 tracks for Shreya Ghoshal at offset 50, Total: 99\n",
            "Fetched 50 tracks for Shreya Ghoshal at offset 100, Total: 149\n",
            "Fetched 50 tracks for Shreya Ghoshal at offset 150, Total: 199\n",
            "Fetched 50 tracks for Shreya Ghoshal at offset 200, Total: 249\n",
            "Fetched 50 tracks for Shreya Ghoshal at offset 250, Total: 299\n",
            "Fetched 50 tracks for Shreya Ghoshal at offset 300, Total: 349\n",
            "Fetched 50 tracks for Shreya Ghoshal at offset 350, Total: 399\n",
            "Fetched 50 tracks for Shreya Ghoshal at offset 400, Total: 449\n",
            "Fetched 50 tracks for Shreya Ghoshal at offset 450, Total: 499\n",
            "Fetched 50 tracks for Shreya Ghoshal at offset 500, Total: 549\n",
            "Fetched 50 tracks for Shreya Ghoshal at offset 550, Total: 599\n",
            "Fetched 50 tracks for Shreya Ghoshal at offset 600, Total: 649\n",
            "Fetched 50 tracks for Shreya Ghoshal at offset 650, Total: 699\n",
            "Fetched 50 tracks for Shreya Ghoshal at offset 700, Total: 749\n",
            "Fetched 50 tracks for Shreya Ghoshal at offset 750, Total: 799\n",
            "Fetched 50 tracks for Shreya Ghoshal at offset 800, Total: 849\n",
            "Fetched 50 tracks for Shreya Ghoshal at offset 850, Total: 899\n",
            "Fetched 50 tracks for Shreya Ghoshal at offset 900, Total: 949\n"
          ]
        },
        {
          "output_type": "stream",
          "name": "stderr",
          "text": [
            "ERROR:spotipy.client:HTTP Error for GET to https://api.spotify.com/v1/search with Params: {'q': 'artist:Shreya Ghoshal', 'limit': 50, 'offset': 1000, 'type': 'track', 'market': None} returned 400 due to Limit + Offset exceeds maximum of 1000\n"
          ]
        },
        {
          "output_type": "stream",
          "name": "stdout",
          "text": [
            "Fetched 50 tracks for Shreya Ghoshal at offset 950, Total: 999\n",
            "Error fetching tracks for Shreya Ghoshal: http status: 400, code: -1 - https://api.spotify.com/v1/search?q=artist%3AShreya+Ghoshal&limit=50&offset=1000&type=track:\n",
            " Limit + Offset exceeds maximum of 1000, reason: None\n",
            "Fetched 50 tracks for Anirudh Ravichander at offset 0, Total: 50\n",
            "Fetched 50 tracks for Anirudh Ravichander at offset 50, Total: 100\n",
            "Fetched 50 tracks for Anirudh Ravichander at offset 100, Total: 150\n",
            "Fetched 50 tracks for Anirudh Ravichander at offset 150, Total: 200\n",
            "Fetched 50 tracks for Anirudh Ravichander at offset 200, Total: 250\n",
            "Fetched 50 tracks for Anirudh Ravichander at offset 250, Total: 300\n",
            "Fetched 50 tracks for Anirudh Ravichander at offset 300, Total: 350\n",
            "Fetched 50 tracks for Anirudh Ravichander at offset 350, Total: 400\n",
            "Fetched 50 tracks for Anirudh Ravichander at offset 400, Total: 450\n",
            "Fetched 50 tracks for Anirudh Ravichander at offset 450, Total: 500\n",
            "Fetched 50 tracks for Anirudh Ravichander at offset 500, Total: 550\n",
            "Fetched 50 tracks for Anirudh Ravichander at offset 550, Total: 600\n",
            "Fetched 50 tracks for Anirudh Ravichander at offset 600, Total: 650\n",
            "Fetched 50 tracks for Anirudh Ravichander at offset 650, Total: 700\n",
            "Fetched 50 tracks for Anirudh Ravichander at offset 700, Total: 750\n",
            "Fetched 50 tracks for Anirudh Ravichander at offset 750, Total: 800\n",
            "Fetched 50 tracks for Anirudh Ravichander at offset 800, Total: 850\n",
            "Fetched 50 tracks for Anirudh Ravichander at offset 850, Total: 900\n",
            "Fetched 50 tracks for Anirudh Ravichander at offset 900, Total: 950\n"
          ]
        },
        {
          "output_type": "stream",
          "name": "stderr",
          "text": [
            "ERROR:spotipy.client:HTTP Error for GET to https://api.spotify.com/v1/search with Params: {'q': 'artist:Anirudh Ravichander', 'limit': 50, 'offset': 1000, 'type': 'track', 'market': None} returned 400 due to Limit + Offset exceeds maximum of 1000\n"
          ]
        },
        {
          "output_type": "stream",
          "name": "stdout",
          "text": [
            "Fetched 50 tracks for Anirudh Ravichander at offset 950, Total: 1000\n",
            "Error fetching tracks for Anirudh Ravichander: http status: 400, code: -1 - https://api.spotify.com/v1/search?q=artist%3AAnirudh+Ravichander&limit=50&offset=1000&type=track:\n",
            " Limit + Offset exceeds maximum of 1000, reason: None\n",
            "Fetched 50 tracks for Ilaiyaraaja at offset 0, Total: 50\n",
            "Fetched 50 tracks for Ilaiyaraaja at offset 50, Total: 100\n",
            "Fetched 50 tracks for Ilaiyaraaja at offset 100, Total: 150\n",
            "Fetched 50 tracks for Ilaiyaraaja at offset 150, Total: 200\n",
            "Fetched 50 tracks for Ilaiyaraaja at offset 200, Total: 250\n",
            "Fetched 50 tracks for Ilaiyaraaja at offset 250, Total: 300\n",
            "Fetched 50 tracks for Ilaiyaraaja at offset 300, Total: 350\n",
            "Fetched 50 tracks for Ilaiyaraaja at offset 350, Total: 400\n",
            "Fetched 50 tracks for Ilaiyaraaja at offset 400, Total: 450\n",
            "Fetched 50 tracks for Ilaiyaraaja at offset 450, Total: 500\n",
            "Fetched 50 tracks for Ilaiyaraaja at offset 500, Total: 550\n",
            "Fetched 50 tracks for Ilaiyaraaja at offset 550, Total: 600\n",
            "Fetched 50 tracks for Ilaiyaraaja at offset 600, Total: 650\n",
            "Fetched 50 tracks for Ilaiyaraaja at offset 650, Total: 700\n",
            "Fetched 50 tracks for Ilaiyaraaja at offset 700, Total: 750\n",
            "Fetched 50 tracks for Ilaiyaraaja at offset 750, Total: 800\n",
            "Fetched 50 tracks for Ilaiyaraaja at offset 800, Total: 850\n",
            "Fetched 50 tracks for Ilaiyaraaja at offset 850, Total: 900\n",
            "Fetched 50 tracks for Ilaiyaraaja at offset 900, Total: 950\n"
          ]
        },
        {
          "output_type": "stream",
          "name": "stderr",
          "text": [
            "ERROR:spotipy.client:HTTP Error for GET to https://api.spotify.com/v1/search with Params: {'q': 'artist:Ilaiyaraaja', 'limit': 50, 'offset': 1000, 'type': 'track', 'market': None} returned 400 due to Limit + Offset exceeds maximum of 1000\n"
          ]
        },
        {
          "output_type": "stream",
          "name": "stdout",
          "text": [
            "Fetched 50 tracks for Ilaiyaraaja at offset 950, Total: 1000\n",
            "Error fetching tracks for Ilaiyaraaja: http status: 400, code: -1 - https://api.spotify.com/v1/search?q=artist%3AIlaiyaraaja&limit=50&offset=1000&type=track:\n",
            " Limit + Offset exceeds maximum of 1000, reason: None\n",
            "Fetched 50 tracks for S. P. Balasubrahmanyam at offset 0, Total: 50\n",
            "Fetched 50 tracks for S. P. Balasubrahmanyam at offset 50, Total: 100\n",
            "Fetched 50 tracks for S. P. Balasubrahmanyam at offset 100, Total: 150\n",
            "Fetched 50 tracks for S. P. Balasubrahmanyam at offset 150, Total: 200\n",
            "Fetched 50 tracks for S. P. Balasubrahmanyam at offset 200, Total: 250\n",
            "Fetched 50 tracks for S. P. Balasubrahmanyam at offset 250, Total: 300\n",
            "Fetched 50 tracks for S. P. Balasubrahmanyam at offset 300, Total: 350\n",
            "Fetched 50 tracks for S. P. Balasubrahmanyam at offset 350, Total: 400\n",
            "Fetched 50 tracks for S. P. Balasubrahmanyam at offset 400, Total: 450\n",
            "Fetched 50 tracks for S. P. Balasubrahmanyam at offset 450, Total: 500\n",
            "Fetched 50 tracks for S. P. Balasubrahmanyam at offset 500, Total: 550\n",
            "Fetched 50 tracks for S. P. Balasubrahmanyam at offset 550, Total: 600\n",
            "Fetched 50 tracks for S. P. Balasubrahmanyam at offset 600, Total: 650\n",
            "Fetched 50 tracks for S. P. Balasubrahmanyam at offset 650, Total: 700\n",
            "Fetched 50 tracks for S. P. Balasubrahmanyam at offset 700, Total: 750\n",
            "Fetched 50 tracks for S. P. Balasubrahmanyam at offset 750, Total: 800\n",
            "Fetched 50 tracks for S. P. Balasubrahmanyam at offset 800, Total: 850\n",
            "Fetched 50 tracks for S. P. Balasubrahmanyam at offset 850, Total: 900\n",
            "Fetched 50 tracks for S. P. Balasubrahmanyam at offset 900, Total: 950\n"
          ]
        },
        {
          "output_type": "stream",
          "name": "stderr",
          "text": [
            "ERROR:spotipy.client:HTTP Error for GET to https://api.spotify.com/v1/search with Params: {'q': 'artist:S. P. Balasubrahmanyam', 'limit': 50, 'offset': 1000, 'type': 'track', 'market': None} returned 400 due to Limit + Offset exceeds maximum of 1000\n"
          ]
        },
        {
          "output_type": "stream",
          "name": "stdout",
          "text": [
            "Fetched 50 tracks for S. P. Balasubrahmanyam at offset 950, Total: 1000\n",
            "Error fetching tracks for S. P. Balasubrahmanyam: http status: 400, code: -1 - https://api.spotify.com/v1/search?q=artist%3AS.+P.+Balasubrahmanyam&limit=50&offset=1000&type=track:\n",
            " Limit + Offset exceeds maximum of 1000, reason: None\n",
            "Fetched 50 tracks for Diljit Dosanjh at offset 0, Total: 50\n",
            "Fetched 50 tracks for Diljit Dosanjh at offset 50, Total: 100\n",
            "Fetched 50 tracks for Diljit Dosanjh at offset 100, Total: 150\n",
            "Fetched 50 tracks for Diljit Dosanjh at offset 150, Total: 200\n",
            "Fetched 50 tracks for Diljit Dosanjh at offset 200, Total: 250\n",
            "Fetched 50 tracks for Diljit Dosanjh at offset 250, Total: 300\n",
            "Fetched 50 tracks for Diljit Dosanjh at offset 300, Total: 350\n",
            "Fetched 50 tracks for Diljit Dosanjh at offset 350, Total: 400\n",
            "Fetched 50 tracks for Diljit Dosanjh at offset 400, Total: 450\n",
            "Fetched 50 tracks for Diljit Dosanjh at offset 450, Total: 500\n",
            "Fetched 50 tracks for Diljit Dosanjh at offset 500, Total: 550\n",
            "Fetched 50 tracks for Diljit Dosanjh at offset 550, Total: 600\n",
            "Fetched 50 tracks for Diljit Dosanjh at offset 600, Total: 650\n",
            "Fetched 50 tracks for Diljit Dosanjh at offset 650, Total: 700\n",
            "Fetched 50 tracks for Diljit Dosanjh at offset 700, Total: 750\n",
            "Fetched 50 tracks for Diljit Dosanjh at offset 750, Total: 800\n",
            "Fetched 50 tracks for Diljit Dosanjh at offset 800, Total: 850\n",
            "Fetched 50 tracks for Diljit Dosanjh at offset 850, Total: 900\n",
            "Fetched 21 tracks for Diljit Dosanjh at offset 900, Total: 921\n",
            "Fetched 48 tracks for A. R. Rahman at offset 0, Total: 48\n",
            "Fetched 50 tracks for A. R. Rahman at offset 50, Total: 98\n",
            "Fetched 50 tracks for A. R. Rahman at offset 100, Total: 148\n",
            "Fetched 50 tracks for A. R. Rahman at offset 150, Total: 198\n",
            "Fetched 50 tracks for A. R. Rahman at offset 200, Total: 248\n",
            "Fetched 50 tracks for A. R. Rahman at offset 250, Total: 298\n",
            "Fetched 50 tracks for A. R. Rahman at offset 300, Total: 348\n",
            "Fetched 50 tracks for A. R. Rahman at offset 350, Total: 398\n",
            "Fetched 50 tracks for A. R. Rahman at offset 400, Total: 448\n",
            "Fetched 50 tracks for A. R. Rahman at offset 450, Total: 498\n",
            "Fetched 50 tracks for A. R. Rahman at offset 500, Total: 548\n",
            "Fetched 50 tracks for A. R. Rahman at offset 550, Total: 598\n",
            "Fetched 50 tracks for A. R. Rahman at offset 600, Total: 648\n",
            "Fetched 50 tracks for A. R. Rahman at offset 650, Total: 698\n",
            "Fetched 50 tracks for A. R. Rahman at offset 700, Total: 748\n",
            "Fetched 50 tracks for A. R. Rahman at offset 750, Total: 798\n",
            "Fetched 50 tracks for A. R. Rahman at offset 800, Total: 848\n",
            "Fetched 50 tracks for A. R. Rahman at offset 850, Total: 898\n",
            "Fetched 50 tracks for A. R. Rahman at offset 900, Total: 948\n"
          ]
        },
        {
          "output_type": "stream",
          "name": "stderr",
          "text": [
            "ERROR:spotipy.client:HTTP Error for GET to https://api.spotify.com/v1/search with Params: {'q': 'artist:A. R. Rahman', 'limit': 50, 'offset': 1000, 'type': 'track', 'market': None} returned 400 due to Limit + Offset exceeds maximum of 1000\n"
          ]
        },
        {
          "output_type": "stream",
          "name": "stdout",
          "text": [
            "Fetched 50 tracks for A. R. Rahman at offset 950, Total: 998\n",
            "Error fetching tracks for A. R. Rahman: http status: 400, code: -1 - https://api.spotify.com/v1/search?q=artist%3AA.+R.+Rahman&limit=50&offset=1000&type=track:\n",
            " Limit + Offset exceeds maximum of 1000, reason: None\n",
            "Fetched 50 tracks for Sidhu Moose Wala at offset 0, Total: 50\n",
            "Fetched 50 tracks for Sidhu Moose Wala at offset 50, Total: 100\n",
            "Fetched 50 tracks for Sidhu Moose Wala at offset 100, Total: 150\n",
            "Fetched 50 tracks for Sidhu Moose Wala at offset 150, Total: 200\n",
            "Fetched 50 tracks for Sidhu Moose Wala at offset 200, Total: 250\n",
            "Fetched 50 tracks for Sidhu Moose Wala at offset 250, Total: 300\n",
            "Fetched 14 tracks for Sidhu Moose Wala at offset 300, Total: 314\n",
            "Fetched 50 tracks for Vishal Dadlani at offset 0, Total: 50\n",
            "Fetched 50 tracks for Vishal Dadlani at offset 50, Total: 100\n",
            "Fetched 50 tracks for Vishal Dadlani at offset 100, Total: 150\n",
            "Fetched 50 tracks for Vishal Dadlani at offset 150, Total: 200\n",
            "Fetched 50 tracks for Vishal Dadlani at offset 200, Total: 250\n",
            "Fetched 50 tracks for Vishal Dadlani at offset 250, Total: 300\n",
            "Fetched 50 tracks for Vishal Dadlani at offset 300, Total: 350\n",
            "Fetched 50 tracks for Vishal Dadlani at offset 350, Total: 400\n",
            "Fetched 50 tracks for Vishal Dadlani at offset 400, Total: 450\n",
            "Fetched 50 tracks for Vishal Dadlani at offset 450, Total: 500\n",
            "Fetched 50 tracks for Vishal Dadlani at offset 500, Total: 550\n",
            "Fetched 50 tracks for Vishal Dadlani at offset 550, Total: 600\n",
            "Fetched 50 tracks for Vishal Dadlani at offset 600, Total: 650\n",
            "Fetched 50 tracks for Vishal Dadlani at offset 650, Total: 700\n",
            "Fetched 50 tracks for Vishal Dadlani at offset 700, Total: 750\n",
            "Fetched 50 tracks for Vishal Dadlani at offset 750, Total: 800\n",
            "Fetched 50 tracks for Vishal Dadlani at offset 800, Total: 850\n",
            "Fetched 50 tracks for Vishal Dadlani at offset 850, Total: 900\n",
            "Fetched 50 tracks for Vishal Dadlani at offset 900, Total: 950\n"
          ]
        },
        {
          "output_type": "stream",
          "name": "stderr",
          "text": [
            "ERROR:spotipy.client:HTTP Error for GET to https://api.spotify.com/v1/search with Params: {'q': 'artist:Vishal Dadlani', 'limit': 50, 'offset': 1000, 'type': 'track', 'market': None} returned 400 due to Limit + Offset exceeds maximum of 1000\n"
          ]
        },
        {
          "output_type": "stream",
          "name": "stdout",
          "text": [
            "Fetched 50 tracks for Vishal Dadlani at offset 950, Total: 1000\n",
            "Error fetching tracks for Vishal Dadlani: http status: 400, code: -1 - https://api.spotify.com/v1/search?q=artist%3AVishal+Dadlani&limit=50&offset=1000&type=track:\n",
            " Limit + Offset exceeds maximum of 1000, reason: None\n",
            "Fetched 50 tracks for Devi Sri Prasad at offset 0, Total: 50\n",
            "Fetched 50 tracks for Devi Sri Prasad at offset 50, Total: 100\n",
            "Fetched 50 tracks for Devi Sri Prasad at offset 100, Total: 150\n",
            "Fetched 50 tracks for Devi Sri Prasad at offset 150, Total: 200\n",
            "Fetched 50 tracks for Devi Sri Prasad at offset 200, Total: 250\n",
            "Fetched 50 tracks for Devi Sri Prasad at offset 250, Total: 300\n",
            "Fetched 50 tracks for Devi Sri Prasad at offset 300, Total: 350\n",
            "Fetched 50 tracks for Devi Sri Prasad at offset 350, Total: 400\n",
            "Fetched 50 tracks for Devi Sri Prasad at offset 400, Total: 450\n",
            "Fetched 50 tracks for Devi Sri Prasad at offset 450, Total: 500\n",
            "Fetched 50 tracks for Devi Sri Prasad at offset 500, Total: 550\n",
            "Fetched 50 tracks for Devi Sri Prasad at offset 550, Total: 600\n",
            "Fetched 50 tracks for Devi Sri Prasad at offset 600, Total: 650\n",
            "Fetched 50 tracks for Devi Sri Prasad at offset 650, Total: 700\n",
            "Fetched 50 tracks for Devi Sri Prasad at offset 700, Total: 750\n",
            "Fetched 50 tracks for Devi Sri Prasad at offset 750, Total: 800\n",
            "Fetched 50 tracks for Devi Sri Prasad at offset 800, Total: 850\n",
            "Fetched 50 tracks for Devi Sri Prasad at offset 850, Total: 900\n",
            "Fetched 50 tracks for Devi Sri Prasad at offset 900, Total: 950\n"
          ]
        },
        {
          "output_type": "stream",
          "name": "stderr",
          "text": [
            "ERROR:spotipy.client:HTTP Error for GET to https://api.spotify.com/v1/search with Params: {'q': 'artist:Devi Sri Prasad', 'limit': 50, 'offset': 1000, 'type': 'track', 'market': None} returned 400 due to Limit + Offset exceeds maximum of 1000\n"
          ]
        },
        {
          "output_type": "stream",
          "name": "stdout",
          "text": [
            "Fetched 50 tracks for Devi Sri Prasad at offset 950, Total: 1000\n",
            "Error fetching tracks for Devi Sri Prasad: http status: 400, code: -1 - https://api.spotify.com/v1/search?q=artist%3ADevi+Sri+Prasad&limit=50&offset=1000&type=track:\n",
            " Limit + Offset exceeds maximum of 1000, reason: None\n",
            "Fetched 48 tracks for Badshah at offset 0, Total: 48\n",
            "Fetched 50 tracks for Badshah at offset 50, Total: 98\n",
            "Fetched 50 tracks for Badshah at offset 100, Total: 148\n",
            "Fetched 50 tracks for Badshah at offset 150, Total: 198\n",
            "Fetched 50 tracks for Badshah at offset 200, Total: 248\n",
            "Fetched 50 tracks for Badshah at offset 250, Total: 298\n",
            "Fetched 50 tracks for Badshah at offset 300, Total: 348\n",
            "Fetched 50 tracks for Badshah at offset 350, Total: 398\n",
            "Fetched 50 tracks for Badshah at offset 400, Total: 448\n",
            "Fetched 50 tracks for Badshah at offset 450, Total: 498\n",
            "Fetched 50 tracks for Badshah at offset 500, Total: 548\n",
            "Fetched 50 tracks for Badshah at offset 550, Total: 598\n",
            "Fetched 50 tracks for Badshah at offset 600, Total: 648\n",
            "Fetched 50 tracks for Badshah at offset 650, Total: 698\n",
            "Fetched 50 tracks for Badshah at offset 700, Total: 748\n",
            "Fetched 50 tracks for Badshah at offset 750, Total: 798\n",
            "Fetched 50 tracks for Badshah at offset 800, Total: 848\n",
            "Fetched 50 tracks for Badshah at offset 850, Total: 898\n",
            "Fetched 50 tracks for Badshah at offset 900, Total: 948\n"
          ]
        },
        {
          "output_type": "stream",
          "name": "stderr",
          "text": [
            "ERROR:spotipy.client:HTTP Error for GET to https://api.spotify.com/v1/search with Params: {'q': 'artist:Badshah', 'limit': 50, 'offset': 1000, 'type': 'track', 'market': None} returned 400 due to Limit + Offset exceeds maximum of 1000\n"
          ]
        },
        {
          "output_type": "stream",
          "name": "stdout",
          "text": [
            "Fetched 50 tracks for Badshah at offset 950, Total: 998\n",
            "Error fetching tracks for Badshah: http status: 400, code: -1 - https://api.spotify.com/v1/search?q=artist%3ABadshah&limit=50&offset=1000&type=track:\n",
            " Limit + Offset exceeds maximum of 1000, reason: None\n",
            "Fetched 50 tracks for Sunidhi Chauhan at offset 0, Total: 50\n",
            "Fetched 50 tracks for Sunidhi Chauhan at offset 50, Total: 100\n",
            "Fetched 50 tracks for Sunidhi Chauhan at offset 100, Total: 150\n",
            "Fetched 50 tracks for Sunidhi Chauhan at offset 150, Total: 200\n",
            "Fetched 50 tracks for Sunidhi Chauhan at offset 200, Total: 250\n",
            "Fetched 50 tracks for Sunidhi Chauhan at offset 250, Total: 300\n",
            "Fetched 50 tracks for Sunidhi Chauhan at offset 300, Total: 350\n",
            "Fetched 50 tracks for Sunidhi Chauhan at offset 350, Total: 400\n",
            "Fetched 50 tracks for Sunidhi Chauhan at offset 400, Total: 450\n",
            "Fetched 50 tracks for Sunidhi Chauhan at offset 450, Total: 500\n",
            "Fetched 50 tracks for Sunidhi Chauhan at offset 500, Total: 550\n",
            "Fetched 50 tracks for Sunidhi Chauhan at offset 550, Total: 600\n",
            "Fetched 50 tracks for Sunidhi Chauhan at offset 600, Total: 650\n",
            "Fetched 50 tracks for Sunidhi Chauhan at offset 650, Total: 700\n",
            "Fetched 50 tracks for Sunidhi Chauhan at offset 700, Total: 750\n",
            "Fetched 50 tracks for Sunidhi Chauhan at offset 750, Total: 800\n",
            "Fetched 50 tracks for Sunidhi Chauhan at offset 800, Total: 850\n",
            "Fetched 50 tracks for Sunidhi Chauhan at offset 850, Total: 900\n",
            "Fetched 50 tracks for Sunidhi Chauhan at offset 900, Total: 950\n"
          ]
        },
        {
          "output_type": "stream",
          "name": "stderr",
          "text": [
            "ERROR:spotipy.client:HTTP Error for GET to https://api.spotify.com/v1/search with Params: {'q': 'artist:Sunidhi Chauhan', 'limit': 50, 'offset': 1000, 'type': 'track', 'market': None} returned 400 due to Limit + Offset exceeds maximum of 1000\n"
          ]
        },
        {
          "output_type": "stream",
          "name": "stdout",
          "text": [
            "Fetched 50 tracks for Sunidhi Chauhan at offset 950, Total: 1000\n",
            "Error fetching tracks for Sunidhi Chauhan: http status: 400, code: -1 - https://api.spotify.com/v1/search?q=artist%3ASunidhi+Chauhan&limit=50&offset=1000&type=track:\n",
            " Limit + Offset exceeds maximum of 1000, reason: None\n",
            "Fetched 50 tracks for Harris Jayaraj at offset 0, Total: 50\n",
            "Fetched 50 tracks for Harris Jayaraj at offset 50, Total: 100\n",
            "Fetched 50 tracks for Harris Jayaraj at offset 100, Total: 150\n",
            "Fetched 50 tracks for Harris Jayaraj at offset 150, Total: 200\n",
            "Fetched 50 tracks for Harris Jayaraj at offset 200, Total: 250\n",
            "Fetched 50 tracks for Harris Jayaraj at offset 250, Total: 300\n",
            "Fetched 50 tracks for Harris Jayaraj at offset 300, Total: 350\n",
            "Fetched 50 tracks for Harris Jayaraj at offset 350, Total: 400\n",
            "Fetched 50 tracks for Harris Jayaraj at offset 400, Total: 450\n",
            "Fetched 50 tracks for Harris Jayaraj at offset 450, Total: 500\n",
            "Fetched 50 tracks for Harris Jayaraj at offset 500, Total: 550\n",
            "Fetched 50 tracks for Harris Jayaraj at offset 550, Total: 600\n",
            "Fetched 50 tracks for Harris Jayaraj at offset 600, Total: 650\n",
            "Fetched 50 tracks for Harris Jayaraj at offset 650, Total: 700\n",
            "Fetched 50 tracks for Harris Jayaraj at offset 700, Total: 750\n",
            "Fetched 50 tracks for Harris Jayaraj at offset 750, Total: 800\n",
            "Fetched 50 tracks for Harris Jayaraj at offset 800, Total: 850\n",
            "Fetched 50 tracks for Harris Jayaraj at offset 850, Total: 900\n",
            "Fetched 50 tracks for Harris Jayaraj at offset 900, Total: 950\n"
          ]
        },
        {
          "output_type": "stream",
          "name": "stderr",
          "text": [
            "ERROR:spotipy.client:HTTP Error for GET to https://api.spotify.com/v1/search with Params: {'q': 'artist:Harris Jayaraj', 'limit': 50, 'offset': 1000, 'type': 'track', 'market': None} returned 400 due to Limit + Offset exceeds maximum of 1000\n"
          ]
        },
        {
          "output_type": "stream",
          "name": "stdout",
          "text": [
            "Fetched 50 tracks for Harris Jayaraj at offset 950, Total: 1000\n",
            "Error fetching tracks for Harris Jayaraj: http status: 400, code: -1 - https://api.spotify.com/v1/search?q=artist%3AHarris+Jayaraj&limit=50&offset=1000&type=track:\n",
            " Limit + Offset exceeds maximum of 1000, reason: None\n",
            "Fetched 50 tracks for Chinmayi at offset 0, Total: 50\n",
            "Fetched 50 tracks for Chinmayi at offset 50, Total: 100\n",
            "Fetched 50 tracks for Chinmayi at offset 100, Total: 150\n",
            "Fetched 50 tracks for Chinmayi at offset 150, Total: 200\n",
            "Fetched 50 tracks for Chinmayi at offset 200, Total: 250\n",
            "Fetched 50 tracks for Chinmayi at offset 250, Total: 300\n",
            "Fetched 50 tracks for Chinmayi at offset 300, Total: 350\n",
            "Fetched 50 tracks for Chinmayi at offset 350, Total: 400\n",
            "Fetched 50 tracks for Chinmayi at offset 400, Total: 450\n",
            "Fetched 50 tracks for Chinmayi at offset 450, Total: 500\n",
            "Fetched 50 tracks for Chinmayi at offset 500, Total: 550\n",
            "Fetched 50 tracks for Chinmayi at offset 550, Total: 600\n",
            "Fetched 50 tracks for Chinmayi at offset 600, Total: 650\n",
            "Fetched 50 tracks for Chinmayi at offset 650, Total: 700\n",
            "Fetched 50 tracks for Chinmayi at offset 700, Total: 750\n",
            "Fetched 50 tracks for Chinmayi at offset 750, Total: 800\n",
            "Fetched 50 tracks for Chinmayi at offset 800, Total: 850\n",
            "Fetched 50 tracks for Chinmayi at offset 850, Total: 900\n",
            "Fetched 50 tracks for Chinmayi at offset 900, Total: 950\n"
          ]
        },
        {
          "output_type": "stream",
          "name": "stderr",
          "text": [
            "ERROR:spotipy.client:HTTP Error for GET to https://api.spotify.com/v1/search with Params: {'q': 'artist:Chinmayi', 'limit': 50, 'offset': 1000, 'type': 'track', 'market': None} returned 400 due to Limit + Offset exceeds maximum of 1000\n"
          ]
        },
        {
          "output_type": "stream",
          "name": "stdout",
          "text": [
            "Fetched 50 tracks for Chinmayi at offset 950, Total: 1000\n",
            "Error fetching tracks for Chinmayi: http status: 400, code: -1 - https://api.spotify.com/v1/search?q=artist%3AChinmayi&limit=50&offset=1000&type=track:\n",
            " Limit + Offset exceeds maximum of 1000, reason: None\n",
            "Fetched 50 tracks for Yo Yo Honey Singh at offset 0, Total: 50\n",
            "Fetched 50 tracks for Yo Yo Honey Singh at offset 50, Total: 100\n",
            "Fetched 50 tracks for Yo Yo Honey Singh at offset 100, Total: 150\n",
            "Fetched 50 tracks for Yo Yo Honey Singh at offset 150, Total: 200\n",
            "Fetched 50 tracks for Yo Yo Honey Singh at offset 200, Total: 250\n",
            "Fetched 50 tracks for Yo Yo Honey Singh at offset 250, Total: 300\n",
            "Fetched 50 tracks for Yo Yo Honey Singh at offset 300, Total: 350\n",
            "Fetched 50 tracks for Yo Yo Honey Singh at offset 350, Total: 400\n",
            "Fetched 50 tracks for Yo Yo Honey Singh at offset 400, Total: 450\n",
            "Fetched 50 tracks for Yo Yo Honey Singh at offset 450, Total: 500\n",
            "Fetched 50 tracks for Yo Yo Honey Singh at offset 500, Total: 550\n",
            "Fetched 50 tracks for Yo Yo Honey Singh at offset 550, Total: 600\n",
            "Fetched 50 tracks for Yo Yo Honey Singh at offset 600, Total: 650\n",
            "Fetched 50 tracks for Yo Yo Honey Singh at offset 650, Total: 700\n",
            "Fetched 35 tracks for Yo Yo Honey Singh at offset 700, Total: 735\n",
            "Fetched 50 tracks for Neha Kakkar at offset 0, Total: 50\n",
            "Fetched 50 tracks for Neha Kakkar at offset 50, Total: 100\n",
            "Fetched 50 tracks for Neha Kakkar at offset 100, Total: 150\n",
            "Fetched 50 tracks for Neha Kakkar at offset 150, Total: 200\n",
            "Fetched 50 tracks for Neha Kakkar at offset 200, Total: 250\n",
            "Fetched 50 tracks for Neha Kakkar at offset 250, Total: 300\n",
            "Fetched 50 tracks for Neha Kakkar at offset 300, Total: 350\n",
            "Fetched 50 tracks for Neha Kakkar at offset 350, Total: 400\n",
            "Fetched 50 tracks for Neha Kakkar at offset 400, Total: 450\n",
            "Fetched 50 tracks for Neha Kakkar at offset 450, Total: 500\n",
            "Fetched 50 tracks for Neha Kakkar at offset 500, Total: 550\n",
            "Fetched 50 tracks for Neha Kakkar at offset 550, Total: 600\n",
            "Fetched 50 tracks for Neha Kakkar at offset 600, Total: 650\n",
            "Fetched 50 tracks for Neha Kakkar at offset 650, Total: 700\n",
            "Fetched 50 tracks for Neha Kakkar at offset 700, Total: 750\n",
            "Fetched 50 tracks for Neha Kakkar at offset 750, Total: 800\n",
            "Fetched 50 tracks for Neha Kakkar at offset 800, Total: 850\n",
            "Fetched 50 tracks for Neha Kakkar at offset 850, Total: 900\n",
            "Fetched 50 tracks for Neha Kakkar at offset 900, Total: 950\n"
          ]
        },
        {
          "output_type": "stream",
          "name": "stderr",
          "text": [
            "ERROR:spotipy.client:HTTP Error for GET to https://api.spotify.com/v1/search with Params: {'q': 'artist:Neha Kakkar', 'limit': 50, 'offset': 1000, 'type': 'track', 'market': None} returned 400 due to Limit + Offset exceeds maximum of 1000\n"
          ]
        },
        {
          "output_type": "stream",
          "name": "stdout",
          "text": [
            "Fetched 50 tracks for Neha Kakkar at offset 950, Total: 1000\n",
            "Error fetching tracks for Neha Kakkar: http status: 400, code: -1 - https://api.spotify.com/v1/search?q=artist%3ANeha+Kakkar&limit=50&offset=1000&type=track:\n",
            " Limit + Offset exceeds maximum of 1000, reason: None\n",
            "Fetched 50 tracks for Guru Randhawa at offset 0, Total: 50\n",
            "Fetched 50 tracks for Guru Randhawa at offset 50, Total: 100\n",
            "Fetched 50 tracks for Guru Randhawa at offset 100, Total: 150\n",
            "Fetched 50 tracks for Guru Randhawa at offset 150, Total: 200\n",
            "Fetched 50 tracks for Guru Randhawa at offset 200, Total: 250\n",
            "Fetched 50 tracks for Guru Randhawa at offset 250, Total: 300\n",
            "Fetched 50 tracks for Guru Randhawa at offset 300, Total: 350\n",
            "Fetched 50 tracks for Guru Randhawa at offset 350, Total: 400\n",
            "Fetched 50 tracks for Guru Randhawa at offset 400, Total: 450\n",
            "Fetched 50 tracks for Guru Randhawa at offset 450, Total: 500\n",
            "Fetched 50 tracks for Guru Randhawa at offset 500, Total: 550\n",
            "Fetched 14 tracks for Guru Randhawa at offset 550, Total: 564\n",
            "Fetched 50 tracks for Yuvan Shankar Raja at offset 0, Total: 50\n",
            "Fetched 50 tracks for Yuvan Shankar Raja at offset 50, Total: 100\n",
            "Fetched 50 tracks for Yuvan Shankar Raja at offset 100, Total: 150\n",
            "Fetched 50 tracks for Yuvan Shankar Raja at offset 150, Total: 200\n",
            "Fetched 50 tracks for Yuvan Shankar Raja at offset 200, Total: 250\n",
            "Fetched 50 tracks for Yuvan Shankar Raja at offset 250, Total: 300\n",
            "Fetched 50 tracks for Yuvan Shankar Raja at offset 300, Total: 350\n",
            "Fetched 50 tracks for Yuvan Shankar Raja at offset 350, Total: 400\n",
            "Fetched 50 tracks for Yuvan Shankar Raja at offset 400, Total: 450\n",
            "Fetched 50 tracks for Yuvan Shankar Raja at offset 450, Total: 500\n",
            "Fetched 50 tracks for Yuvan Shankar Raja at offset 500, Total: 550\n",
            "Fetched 50 tracks for Yuvan Shankar Raja at offset 550, Total: 600\n",
            "Fetched 50 tracks for Yuvan Shankar Raja at offset 600, Total: 650\n",
            "Fetched 50 tracks for Yuvan Shankar Raja at offset 650, Total: 700\n",
            "Fetched 50 tracks for Yuvan Shankar Raja at offset 700, Total: 750\n",
            "Fetched 50 tracks for Yuvan Shankar Raja at offset 750, Total: 800\n",
            "Fetched 50 tracks for Yuvan Shankar Raja at offset 800, Total: 850\n",
            "Fetched 50 tracks for Yuvan Shankar Raja at offset 850, Total: 900\n",
            "Fetched 50 tracks for Yuvan Shankar Raja at offset 900, Total: 950\n"
          ]
        },
        {
          "output_type": "stream",
          "name": "stderr",
          "text": [
            "ERROR:spotipy.client:HTTP Error for GET to https://api.spotify.com/v1/search with Params: {'q': 'artist:Yuvan Shankar Raja', 'limit': 50, 'offset': 1000, 'type': 'track', 'market': None} returned 400 due to Limit + Offset exceeds maximum of 1000\n"
          ]
        },
        {
          "output_type": "stream",
          "name": "stdout",
          "text": [
            "Fetched 50 tracks for Yuvan Shankar Raja at offset 950, Total: 1000\n",
            "Error fetching tracks for Yuvan Shankar Raja: http status: 400, code: -1 - https://api.spotify.com/v1/search?q=artist%3AYuvan+Shankar+Raja&limit=50&offset=1000&type=track:\n",
            " Limit + Offset exceeds maximum of 1000, reason: None\n",
            "Total fetched: 14766 tracks across 14766 unique songs.\n",
            "language\n",
            "hi    4441\n",
            "pa    3205\n",
            "ta    5387\n",
            "te    1733\n",
            "dtype: int64\n",
            "   user_id                 song_id  rating  \\\n",
            "0        1  20GvRntcVUf2iB9yuN5jZ3       1   \n",
            "1        1  3sV46smfulDcKYfj4FdrjR       1   \n",
            "2        1  6J6j4L2Jzy9VmwWj71ORPU       1   \n",
            "3        1  6DzB9TCOLVGTtaXmJNEmCZ       5   \n",
            "4        1  7nAaXFOtJtL8iee4xSxJLv       3   \n",
            "5        1  0yLQV941yUzphlPNKx0icK       2   \n",
            "6        1  26gUBt9LDMIkdxskiRpbZ0       2   \n",
            "7        1  5eYDMV3Fn8KElacH754Bjt       2   \n",
            "8        1  6CKNnPD33ZuXBJdlXVmzXD       2   \n",
            "9        1  0xNJMvunwx1loBS9Zu64Z0       4   \n",
            "\n",
            "                                             name language  \n",
            "0                            Veerapandi Kotayyile       ta  \n",
            "1                                   Thikku Thikku       ta  \n",
            "2                                      On Nenappu       ta  \n",
            "3                                Tu Mora Jibanara       pa  \n",
            "4             Torture Pro Max - From \"Sweetheart\"       ta  \n",
            "5           Hawayein (From \"Jab Harry Met Sejal\")       hi  \n",
            "6                         Desi Bop - Audio Teaser       pa  \n",
            "7                    Dil Ke Paas (Indian Version)       hi  \n",
            "8  Chennai City Gangsta (From \"Vanakkam Chennai\")       ta  \n",
            "9                                     Yamma Yamma       ta  \n"
          ]
        }
      ]
    },
    {
      "cell_type": "code",
      "source": [
        "import ipywidgets as widgets\n",
        "from IPython.display import display\n",
        "from surprise import SVD, Dataset, Reader\n",
        "import pandas as pd\n",
        "\n",
        "# Load the Spotify dataset\n",
        "try:\n",
        "    df = pd.read_csv('/content/indian_songs_spotify.csv')\n",
        "except FileNotFoundError:\n",
        "    print(\"Dataset file not found. Ensure the previous step created indian_songs_spotify.csv.\")\n",
        "    raise\n",
        "\n",
        "reader = Reader(rating_scale=(1, 5))\n",
        "data = Dataset.load_from_df(df[['user_id', 'song_id', 'rating']], reader)\n",
        "trainset = data.build_full_trainset()\n",
        "model = SVD()\n",
        "model.fit(trainset)\n",
        "\n",
        "# Print dataset info\n",
        "valid_users = df['user_id'].unique()\n",
        "print(f\"Dataset has {len(df['song_id'].unique())} unique songs and {len(valid_users)} unique users: {valid_users}\")\n",
        "print(f\"Language distribution:\\n{df.groupby('language').size()}\")\n",
        "\n",
        "# Create widgets\n",
        "user_id = widgets.IntText(value=1, description='User ID:', style={'description_width': 'initial'})\n",
        "button = widgets.Button(description='Get Recommendations', button_style='success')\n",
        "output = widgets.Output()\n",
        "\n",
        "# Function to handle button click\n",
        "def on_button_clicked(b):\n",
        "    with output:\n",
        "        output.clear_output()\n",
        "        if user_id.value not in valid_users:\n",
        "            print(f\"Invalid User ID: {user_id.value}. Please choose from {valid_users}.\")\n",
        "            return\n",
        "        indian_songs = df['song_id'].unique()\n",
        "        pred_ratings = [model.predict(user_id.value, song_id) for song_id in indian_songs]\n",
        "        top_recommendations = sorted(pred_ratings, key=lambda x: x.est, reverse=True)[:5]\n",
        "        print(f\"Top 5 recommendations for User {user_id.value}:\")\n",
        "        for pred in top_recommendations:\n",
        "            song_name = df[df['song_id'] == pred.iid]['name'].iloc[0]\n",
        "            song_lang = df[df['song_id'] == pred.iid]['language'].iloc[0]\n",
        "            print(f\"Song: {song_name} ({song_lang}), Predicted Rating: {pred.est:.2f}\")\n",
        "\n",
        "button.on_click(on_button_clicked)\n",
        "display(user_id, button, output)"
      ],
      "metadata": {
        "colab": {
          "base_uri": "https://localhost:8080/",
          "height": 247,
          "referenced_widgets": [
            "54a55d8d10aa4853a8ce336f9467efef",
            "2e99088f77564d54965d78b1f12a1dab",
            "239a911981e347e09be8103d6c0d6f91",
            "e6dee09c746f48b48b0477aca3222fe9",
            "d2886001de8140af9a4fe5e9f4a20115",
            "95aabcbc56a1450795c8429be4d9a927",
            "ade4599dbd0b4a41936cc92cd74cc834",
            "b6813be956e34fea9442461211a4fc79"
          ]
        },
        "id": "mFtPeHzifqPG",
        "outputId": "9e2d4e62-a880-48c7-bb56-33415a566f51"
      },
      "execution_count": 18,
      "outputs": [
        {
          "output_type": "stream",
          "name": "stdout",
          "text": [
            "Dataset has 180 unique songs and 6 unique users: [1 2 3 4 5 6]\n",
            "Language distribution:\n",
            "language\n",
            "hi    53\n",
            "pa    34\n",
            "ta    76\n",
            "te    17\n",
            "dtype: int64\n"
          ]
        },
        {
          "output_type": "display_data",
          "data": {
            "text/plain": [
              "IntText(value=1, description='User ID:', style=DescriptionStyle(description_width='initial'))"
            ],
            "application/vnd.jupyter.widget-view+json": {
              "version_major": 2,
              "version_minor": 0,
              "model_id": "54a55d8d10aa4853a8ce336f9467efef"
            }
          },
          "metadata": {}
        },
        {
          "output_type": "display_data",
          "data": {
            "text/plain": [
              "Button(button_style='success', description='Get Recommendations', style=ButtonStyle())"
            ],
            "application/vnd.jupyter.widget-view+json": {
              "version_major": 2,
              "version_minor": 0,
              "model_id": "e6dee09c746f48b48b0477aca3222fe9"
            }
          },
          "metadata": {}
        },
        {
          "output_type": "display_data",
          "data": {
            "text/plain": [
              "Output()"
            ],
            "application/vnd.jupyter.widget-view+json": {
              "version_major": 2,
              "version_minor": 0,
              "model_id": "ade4599dbd0b4a41936cc92cd74cc834"
            }
          },
          "metadata": {}
        }
      ]
    }
  ],
  "metadata": {
    "colab": {
      "provenance": [],
      "authorship_tag": "ABX9TyPbzk+YiBSsJjWl3WBdkexH",
      "include_colab_link": true
    },
    "kernelspec": {
      "display_name": "Python 3",
      "name": "python3"
    },
    "language_info": {
      "name": "python"
    },
    "widgets": {
      "application/vnd.jupyter.widget-state+json": {
        "9b7f214435314c9bb62dd0a394ca6961": {
          "model_module": "@jupyter-widgets/controls",
          "model_name": "IntTextModel",
          "model_module_version": "1.5.0",
          "state": {
            "_dom_classes": [],
            "_model_module": "@jupyter-widgets/controls",
            "_model_module_version": "1.5.0",
            "_model_name": "IntTextModel",
            "_view_count": null,
            "_view_module": "@jupyter-widgets/controls",
            "_view_module_version": "1.5.0",
            "_view_name": "IntTextView",
            "continuous_update": false,
            "description": "User ID:",
            "description_tooltip": null,
            "disabled": false,
            "layout": "IPY_MODEL_cef2657f2cb943809ce54088ad9347be",
            "step": 1,
            "style": "IPY_MODEL_a42f03c6c8af452393be04d8724224ea",
            "value": 12
          }
        },
        "cef2657f2cb943809ce54088ad9347be": {
          "model_module": "@jupyter-widgets/base",
          "model_name": "LayoutModel",
          "model_module_version": "1.2.0",
          "state": {
            "_model_module": "@jupyter-widgets/base",
            "_model_module_version": "1.2.0",
            "_model_name": "LayoutModel",
            "_view_count": null,
            "_view_module": "@jupyter-widgets/base",
            "_view_module_version": "1.2.0",
            "_view_name": "LayoutView",
            "align_content": null,
            "align_items": null,
            "align_self": null,
            "border": null,
            "bottom": null,
            "display": null,
            "flex": null,
            "flex_flow": null,
            "grid_area": null,
            "grid_auto_columns": null,
            "grid_auto_flow": null,
            "grid_auto_rows": null,
            "grid_column": null,
            "grid_gap": null,
            "grid_row": null,
            "grid_template_areas": null,
            "grid_template_columns": null,
            "grid_template_rows": null,
            "height": null,
            "justify_content": null,
            "justify_items": null,
            "left": null,
            "margin": null,
            "max_height": null,
            "max_width": null,
            "min_height": null,
            "min_width": null,
            "object_fit": null,
            "object_position": null,
            "order": null,
            "overflow": null,
            "overflow_x": null,
            "overflow_y": null,
            "padding": null,
            "right": null,
            "top": null,
            "visibility": null,
            "width": null
          }
        },
        "a42f03c6c8af452393be04d8724224ea": {
          "model_module": "@jupyter-widgets/controls",
          "model_name": "DescriptionStyleModel",
          "model_module_version": "1.5.0",
          "state": {
            "_model_module": "@jupyter-widgets/controls",
            "_model_module_version": "1.5.0",
            "_model_name": "DescriptionStyleModel",
            "_view_count": null,
            "_view_module": "@jupyter-widgets/base",
            "_view_module_version": "1.2.0",
            "_view_name": "StyleView",
            "description_width": "initial"
          }
        },
        "2c791cd326274b0ea18c6efc82d706f5": {
          "model_module": "@jupyter-widgets/controls",
          "model_name": "ButtonModel",
          "model_module_version": "1.5.0",
          "state": {
            "_dom_classes": [],
            "_model_module": "@jupyter-widgets/controls",
            "_model_module_version": "1.5.0",
            "_model_name": "ButtonModel",
            "_view_count": null,
            "_view_module": "@jupyter-widgets/controls",
            "_view_module_version": "1.5.0",
            "_view_name": "ButtonView",
            "button_style": "success",
            "description": "Get Recommendations",
            "disabled": false,
            "icon": "",
            "layout": "IPY_MODEL_ff2edbf0a5534b0ebbc5ed823d4aa6bc",
            "style": "IPY_MODEL_7b3ea62807b64209ad8189b969d8cb2a",
            "tooltip": ""
          }
        },
        "ff2edbf0a5534b0ebbc5ed823d4aa6bc": {
          "model_module": "@jupyter-widgets/base",
          "model_name": "LayoutModel",
          "model_module_version": "1.2.0",
          "state": {
            "_model_module": "@jupyter-widgets/base",
            "_model_module_version": "1.2.0",
            "_model_name": "LayoutModel",
            "_view_count": null,
            "_view_module": "@jupyter-widgets/base",
            "_view_module_version": "1.2.0",
            "_view_name": "LayoutView",
            "align_content": null,
            "align_items": null,
            "align_self": null,
            "border": null,
            "bottom": null,
            "display": null,
            "flex": null,
            "flex_flow": null,
            "grid_area": null,
            "grid_auto_columns": null,
            "grid_auto_flow": null,
            "grid_auto_rows": null,
            "grid_column": null,
            "grid_gap": null,
            "grid_row": null,
            "grid_template_areas": null,
            "grid_template_columns": null,
            "grid_template_rows": null,
            "height": null,
            "justify_content": null,
            "justify_items": null,
            "left": null,
            "margin": null,
            "max_height": null,
            "max_width": null,
            "min_height": null,
            "min_width": null,
            "object_fit": null,
            "object_position": null,
            "order": null,
            "overflow": null,
            "overflow_x": null,
            "overflow_y": null,
            "padding": null,
            "right": null,
            "top": null,
            "visibility": null,
            "width": null
          }
        },
        "7b3ea62807b64209ad8189b969d8cb2a": {
          "model_module": "@jupyter-widgets/controls",
          "model_name": "ButtonStyleModel",
          "model_module_version": "1.5.0",
          "state": {
            "_model_module": "@jupyter-widgets/controls",
            "_model_module_version": "1.5.0",
            "_model_name": "ButtonStyleModel",
            "_view_count": null,
            "_view_module": "@jupyter-widgets/base",
            "_view_module_version": "1.2.0",
            "_view_name": "StyleView",
            "button_color": null,
            "font_weight": ""
          }
        },
        "4160fb4b01604158977cc0dabfd0d2bd": {
          "model_module": "@jupyter-widgets/output",
          "model_name": "OutputModel",
          "model_module_version": "1.0.0",
          "state": {
            "_dom_classes": [],
            "_model_module": "@jupyter-widgets/output",
            "_model_module_version": "1.0.0",
            "_model_name": "OutputModel",
            "_view_count": null,
            "_view_module": "@jupyter-widgets/output",
            "_view_module_version": "1.0.0",
            "_view_name": "OutputView",
            "layout": "IPY_MODEL_3e5f59e7abb748ecaecd9ba0f9ddfd1b",
            "msg_id": "",
            "outputs": [
              {
                "output_type": "stream",
                "name": "stdout",
                "text": [
                  "Top 3 recommendations for User 12:\n",
                  "Song: Mundian To Bach Ke, Predicted Rating: 3.97\n",
                  "Song: Tum Hi Ho, Predicted Rating: 3.97\n",
                  "Song: Vaathi Coming, Predicted Rating: 3.89\n"
                ]
              }
            ]
          }
        },
        "3e5f59e7abb748ecaecd9ba0f9ddfd1b": {
          "model_module": "@jupyter-widgets/base",
          "model_name": "LayoutModel",
          "model_module_version": "1.2.0",
          "state": {
            "_model_module": "@jupyter-widgets/base",
            "_model_module_version": "1.2.0",
            "_model_name": "LayoutModel",
            "_view_count": null,
            "_view_module": "@jupyter-widgets/base",
            "_view_module_version": "1.2.0",
            "_view_name": "LayoutView",
            "align_content": null,
            "align_items": null,
            "align_self": null,
            "border": null,
            "bottom": null,
            "display": null,
            "flex": null,
            "flex_flow": null,
            "grid_area": null,
            "grid_auto_columns": null,
            "grid_auto_flow": null,
            "grid_auto_rows": null,
            "grid_column": null,
            "grid_gap": null,
            "grid_row": null,
            "grid_template_areas": null,
            "grid_template_columns": null,
            "grid_template_rows": null,
            "height": null,
            "justify_content": null,
            "justify_items": null,
            "left": null,
            "margin": null,
            "max_height": null,
            "max_width": null,
            "min_height": null,
            "min_width": null,
            "object_fit": null,
            "object_position": null,
            "order": null,
            "overflow": null,
            "overflow_x": null,
            "overflow_y": null,
            "padding": null,
            "right": null,
            "top": null,
            "visibility": null,
            "width": null
          }
        },
        "54a55d8d10aa4853a8ce336f9467efef": {
          "model_module": "@jupyter-widgets/controls",
          "model_name": "IntTextModel",
          "model_module_version": "1.5.0",
          "state": {
            "_dom_classes": [],
            "_model_module": "@jupyter-widgets/controls",
            "_model_module_version": "1.5.0",
            "_model_name": "IntTextModel",
            "_view_count": null,
            "_view_module": "@jupyter-widgets/controls",
            "_view_module_version": "1.5.0",
            "_view_name": "IntTextView",
            "continuous_update": false,
            "description": "User ID:",
            "description_tooltip": null,
            "disabled": false,
            "layout": "IPY_MODEL_2e99088f77564d54965d78b1f12a1dab",
            "step": 1,
            "style": "IPY_MODEL_239a911981e347e09be8103d6c0d6f91",
            "value": 8
          }
        },
        "2e99088f77564d54965d78b1f12a1dab": {
          "model_module": "@jupyter-widgets/base",
          "model_name": "LayoutModel",
          "model_module_version": "1.2.0",
          "state": {
            "_model_module": "@jupyter-widgets/base",
            "_model_module_version": "1.2.0",
            "_model_name": "LayoutModel",
            "_view_count": null,
            "_view_module": "@jupyter-widgets/base",
            "_view_module_version": "1.2.0",
            "_view_name": "LayoutView",
            "align_content": null,
            "align_items": null,
            "align_self": null,
            "border": null,
            "bottom": null,
            "display": null,
            "flex": null,
            "flex_flow": null,
            "grid_area": null,
            "grid_auto_columns": null,
            "grid_auto_flow": null,
            "grid_auto_rows": null,
            "grid_column": null,
            "grid_gap": null,
            "grid_row": null,
            "grid_template_areas": null,
            "grid_template_columns": null,
            "grid_template_rows": null,
            "height": null,
            "justify_content": null,
            "justify_items": null,
            "left": null,
            "margin": null,
            "max_height": null,
            "max_width": null,
            "min_height": null,
            "min_width": null,
            "object_fit": null,
            "object_position": null,
            "order": null,
            "overflow": null,
            "overflow_x": null,
            "overflow_y": null,
            "padding": null,
            "right": null,
            "top": null,
            "visibility": null,
            "width": null
          }
        },
        "239a911981e347e09be8103d6c0d6f91": {
          "model_module": "@jupyter-widgets/controls",
          "model_name": "DescriptionStyleModel",
          "model_module_version": "1.5.0",
          "state": {
            "_model_module": "@jupyter-widgets/controls",
            "_model_module_version": "1.5.0",
            "_model_name": "DescriptionStyleModel",
            "_view_count": null,
            "_view_module": "@jupyter-widgets/base",
            "_view_module_version": "1.2.0",
            "_view_name": "StyleView",
            "description_width": "initial"
          }
        },
        "e6dee09c746f48b48b0477aca3222fe9": {
          "model_module": "@jupyter-widgets/controls",
          "model_name": "ButtonModel",
          "model_module_version": "1.5.0",
          "state": {
            "_dom_classes": [],
            "_model_module": "@jupyter-widgets/controls",
            "_model_module_version": "1.5.0",
            "_model_name": "ButtonModel",
            "_view_count": null,
            "_view_module": "@jupyter-widgets/controls",
            "_view_module_version": "1.5.0",
            "_view_name": "ButtonView",
            "button_style": "success",
            "description": "Get Recommendations",
            "disabled": false,
            "icon": "",
            "layout": "IPY_MODEL_d2886001de8140af9a4fe5e9f4a20115",
            "style": "IPY_MODEL_95aabcbc56a1450795c8429be4d9a927",
            "tooltip": ""
          }
        },
        "d2886001de8140af9a4fe5e9f4a20115": {
          "model_module": "@jupyter-widgets/base",
          "model_name": "LayoutModel",
          "model_module_version": "1.2.0",
          "state": {
            "_model_module": "@jupyter-widgets/base",
            "_model_module_version": "1.2.0",
            "_model_name": "LayoutModel",
            "_view_count": null,
            "_view_module": "@jupyter-widgets/base",
            "_view_module_version": "1.2.0",
            "_view_name": "LayoutView",
            "align_content": null,
            "align_items": null,
            "align_self": null,
            "border": null,
            "bottom": null,
            "display": null,
            "flex": null,
            "flex_flow": null,
            "grid_area": null,
            "grid_auto_columns": null,
            "grid_auto_flow": null,
            "grid_auto_rows": null,
            "grid_column": null,
            "grid_gap": null,
            "grid_row": null,
            "grid_template_areas": null,
            "grid_template_columns": null,
            "grid_template_rows": null,
            "height": null,
            "justify_content": null,
            "justify_items": null,
            "left": null,
            "margin": null,
            "max_height": null,
            "max_width": null,
            "min_height": null,
            "min_width": null,
            "object_fit": null,
            "object_position": null,
            "order": null,
            "overflow": null,
            "overflow_x": null,
            "overflow_y": null,
            "padding": null,
            "right": null,
            "top": null,
            "visibility": null,
            "width": null
          }
        },
        "95aabcbc56a1450795c8429be4d9a927": {
          "model_module": "@jupyter-widgets/controls",
          "model_name": "ButtonStyleModel",
          "model_module_version": "1.5.0",
          "state": {
            "_model_module": "@jupyter-widgets/controls",
            "_model_module_version": "1.5.0",
            "_model_name": "ButtonStyleModel",
            "_view_count": null,
            "_view_module": "@jupyter-widgets/base",
            "_view_module_version": "1.2.0",
            "_view_name": "StyleView",
            "button_color": null,
            "font_weight": ""
          }
        },
        "ade4599dbd0b4a41936cc92cd74cc834": {
          "model_module": "@jupyter-widgets/output",
          "model_name": "OutputModel",
          "model_module_version": "1.0.0",
          "state": {
            "_dom_classes": [],
            "_model_module": "@jupyter-widgets/output",
            "_model_module_version": "1.0.0",
            "_model_name": "OutputModel",
            "_view_count": null,
            "_view_module": "@jupyter-widgets/output",
            "_view_module_version": "1.0.0",
            "_view_name": "OutputView",
            "layout": "IPY_MODEL_b6813be956e34fea9442461211a4fc79",
            "msg_id": "",
            "outputs": [
              {
                "output_type": "stream",
                "name": "stdout",
                "text": [
                  "Invalid User ID: 8. Please choose from [1 2 3 4 5 6].\n"
                ]
              }
            ]
          }
        },
        "b6813be956e34fea9442461211a4fc79": {
          "model_module": "@jupyter-widgets/base",
          "model_name": "LayoutModel",
          "model_module_version": "1.2.0",
          "state": {
            "_model_module": "@jupyter-widgets/base",
            "_model_module_version": "1.2.0",
            "_model_name": "LayoutModel",
            "_view_count": null,
            "_view_module": "@jupyter-widgets/base",
            "_view_module_version": "1.2.0",
            "_view_name": "LayoutView",
            "align_content": null,
            "align_items": null,
            "align_self": null,
            "border": null,
            "bottom": null,
            "display": null,
            "flex": null,
            "flex_flow": null,
            "grid_area": null,
            "grid_auto_columns": null,
            "grid_auto_flow": null,
            "grid_auto_rows": null,
            "grid_column": null,
            "grid_gap": null,
            "grid_row": null,
            "grid_template_areas": null,
            "grid_template_columns": null,
            "grid_template_rows": null,
            "height": null,
            "justify_content": null,
            "justify_items": null,
            "left": null,
            "margin": null,
            "max_height": null,
            "max_width": null,
            "min_height": null,
            "min_width": null,
            "object_fit": null,
            "object_position": null,
            "order": null,
            "overflow": null,
            "overflow_x": null,
            "overflow_y": null,
            "padding": null,
            "right": null,
            "top": null,
            "visibility": null,
            "width": null
          }
        }
      }
    }
  },
  "nbformat": 4,
  "nbformat_minor": 0
}